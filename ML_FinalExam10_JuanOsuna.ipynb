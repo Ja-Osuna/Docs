{
  "nbformat": 4,
  "nbformat_minor": 0,
  "metadata": {
    "colab": {
      "name": "Copia de ProyectoFinal_JuanOsuna.ipynb",
      "provenance": [],
      "collapsed_sections": [],
      "authorship_tag": "ABX9TyMje97QV3+2cH5vUxHZLZd4",
      "include_colab_link": true
    },
    "kernelspec": {
      "display_name": "Python 3",
      "name": "python3"
    }
  },
  "cells": [
    {
      "cell_type": "markdown",
      "metadata": {
        "id": "view-in-github",
        "colab_type": "text"
      },
      "source": [
        "<a href=\"https://colab.research.google.com/github/Ja-Osuna/Docs/blob/main/ML_FinalExam10_JuanOsuna.ipynb\" target=\"_parent\"><img src=\"https://colab.research.google.com/assets/colab-badge.svg\" alt=\"Open In Colab\"/></a>"
      ]
    },
    {
      "cell_type": "markdown",
      "metadata": {
        "id": "4KcaMbTcmtHZ"
      },
      "source": [
        "**Machine Learning Final Exam - Juan Antonio Osuna**"
      ]
    },
    {
      "cell_type": "markdown",
      "metadata": {
        "id": "uycj9Rg_5Fx4"
      },
      "source": [
        "**PREPARATION**"
      ]
    },
    {
      "cell_type": "markdown",
      "metadata": {
        "id": "3POi6QMK1wAX"
      },
      "source": [
        "*Install packages needed*"
      ]
    },
    {
      "cell_type": "code",
      "metadata": {
        "colab": {
          "base_uri": "https://localhost:8080/"
        },
        "id": "ku8UW1Fz35hV",
        "outputId": "17b9bcfa-8b21-46ef-f0f3-e7549e2a79a6"
      },
      "source": [
        "!pip install chainconsumer"
      ],
      "execution_count": 458,
      "outputs": [
        {
          "output_type": "stream",
          "text": [
            "Requirement already satisfied: chainconsumer in /usr/local/lib/python3.6/dist-packages (0.33.0)\n",
            "Requirement already satisfied: statsmodels>=0.7.0 in /usr/local/lib/python3.6/dist-packages (from chainconsumer) (0.10.2)\n",
            "Requirement already satisfied: matplotlib!=2.1.*,!=2.2.*,>1.6.0 in /usr/local/lib/python3.6/dist-packages (from chainconsumer) (3.2.2)\n",
            "Requirement already satisfied: numpy in /usr/local/lib/python3.6/dist-packages (from chainconsumer) (1.18.5)\n",
            "Requirement already satisfied: pandas in /usr/local/lib/python3.6/dist-packages (from chainconsumer) (1.1.4)\n",
            "Requirement already satisfied: scipy in /usr/local/lib/python3.6/dist-packages (from chainconsumer) (1.4.1)\n",
            "Requirement already satisfied: patsy>=0.4.0 in /usr/local/lib/python3.6/dist-packages (from statsmodels>=0.7.0->chainconsumer) (0.5.1)\n",
            "Requirement already satisfied: cycler>=0.10 in /usr/local/lib/python3.6/dist-packages (from matplotlib!=2.1.*,!=2.2.*,>1.6.0->chainconsumer) (0.10.0)\n",
            "Requirement already satisfied: python-dateutil>=2.1 in /usr/local/lib/python3.6/dist-packages (from matplotlib!=2.1.*,!=2.2.*,>1.6.0->chainconsumer) (2.8.1)\n",
            "Requirement already satisfied: pyparsing!=2.0.4,!=2.1.2,!=2.1.6,>=2.0.1 in /usr/local/lib/python3.6/dist-packages (from matplotlib!=2.1.*,!=2.2.*,>1.6.0->chainconsumer) (2.4.7)\n",
            "Requirement already satisfied: kiwisolver>=1.0.1 in /usr/local/lib/python3.6/dist-packages (from matplotlib!=2.1.*,!=2.2.*,>1.6.0->chainconsumer) (1.3.1)\n",
            "Requirement already satisfied: pytz>=2017.2 in /usr/local/lib/python3.6/dist-packages (from pandas->chainconsumer) (2018.9)\n",
            "Requirement already satisfied: six in /usr/local/lib/python3.6/dist-packages (from patsy>=0.4.0->statsmodels>=0.7.0->chainconsumer) (1.15.0)\n"
          ],
          "name": "stdout"
        }
      ]
    },
    {
      "cell_type": "markdown",
      "metadata": {
        "id": "h4HKkwwz4MZi"
      },
      "source": [
        "*Importing Libraries*"
      ]
    },
    {
      "cell_type": "code",
      "metadata": {
        "id": "5Kw_G6c3xrTF"
      },
      "source": [
        "import numpy as np\n",
        "import pandas as pd\n",
        "import matplotlib.pyplot as plt\n",
        "import sklearn\n",
        "import seaborn as sns\n",
        "import plotly.graph_objects as go\n",
        "from sklearn.linear_model import LogisticRegression\n",
        "from sklearn.model_selection import train_test_split\n",
        "from sklearn import model_selection\n",
        "from sklearn.model_selection import KFold\n",
        "from sklearn import preprocessing"
      ],
      "execution_count": 459,
      "outputs": []
    },
    {
      "cell_type": "markdown",
      "metadata": {
        "id": "T8FaDgzz2_Rz"
      },
      "source": [
        "**DATA MANIPULATION**"
      ]
    },
    {
      "cell_type": "markdown",
      "metadata": {
        "id": "oPMMhXTk5ksM"
      },
      "source": [
        "*Load the data to the program*"
      ]
    },
    {
      "cell_type": "code",
      "metadata": {
        "id": "Ksxfi0zEzu4M",
        "colab": {
          "base_uri": "https://localhost:8080/"
        },
        "outputId": "c2dba918-9674-4788-dbbd-d79f1424d249"
      },
      "source": [
        "# NOTE: I had to download and upload the file to Github in order to use it in Google Colab\n",
        "diabetes = pd.read_csv('https://raw.githubusercontent.com/Ja-Osuna/Docs/main/diabetes.csv')\n",
        "diabetes.info()"
      ],
      "execution_count": 460,
      "outputs": [
        {
          "output_type": "stream",
          "text": [
            "<class 'pandas.core.frame.DataFrame'>\n",
            "RangeIndex: 392 entries, 0 to 391\n",
            "Data columns (total 9 columns):\n",
            " #   Column                    Non-Null Count  Dtype  \n",
            "---  ------                    --------------  -----  \n",
            " 0   Pregnancies               392 non-null    int64  \n",
            " 1   Glucose                   392 non-null    int64  \n",
            " 2   BloodPressure             392 non-null    int64  \n",
            " 3   SkinThickness             392 non-null    int64  \n",
            " 4   Insulin                   392 non-null    int64  \n",
            " 5   BMI                       392 non-null    float64\n",
            " 6   DiabetesPedigreeFunction  392 non-null    float64\n",
            " 7   Age                       392 non-null    int64  \n",
            " 8   Outcome                   392 non-null    int64  \n",
            "dtypes: float64(2), int64(7)\n",
            "memory usage: 27.7 KB\n"
          ],
          "name": "stdout"
        }
      ]
    },
    {
      "cell_type": "markdown",
      "metadata": {
        "id": "0OijaQTo57SC"
      },
      "source": [
        "*Example of our data* "
      ]
    },
    {
      "cell_type": "code",
      "metadata": {
        "id": "pZyPuTixxyUB",
        "colab": {
          "base_uri": "https://localhost:8080/",
          "height": 204
        },
        "outputId": "d748cea5-ff7d-4043-e0a1-24f65cff7cbb"
      },
      "source": [
        "diabetes.head()"
      ],
      "execution_count": 461,
      "outputs": [
        {
          "output_type": "execute_result",
          "data": {
            "text/html": [
              "<div>\n",
              "<style scoped>\n",
              "    .dataframe tbody tr th:only-of-type {\n",
              "        vertical-align: middle;\n",
              "    }\n",
              "\n",
              "    .dataframe tbody tr th {\n",
              "        vertical-align: top;\n",
              "    }\n",
              "\n",
              "    .dataframe thead th {\n",
              "        text-align: right;\n",
              "    }\n",
              "</style>\n",
              "<table border=\"1\" class=\"dataframe\">\n",
              "  <thead>\n",
              "    <tr style=\"text-align: right;\">\n",
              "      <th></th>\n",
              "      <th>Pregnancies</th>\n",
              "      <th>Glucose</th>\n",
              "      <th>BloodPressure</th>\n",
              "      <th>SkinThickness</th>\n",
              "      <th>Insulin</th>\n",
              "      <th>BMI</th>\n",
              "      <th>DiabetesPedigreeFunction</th>\n",
              "      <th>Age</th>\n",
              "      <th>Outcome</th>\n",
              "    </tr>\n",
              "  </thead>\n",
              "  <tbody>\n",
              "    <tr>\n",
              "      <th>0</th>\n",
              "      <td>1</td>\n",
              "      <td>89</td>\n",
              "      <td>66</td>\n",
              "      <td>23</td>\n",
              "      <td>94</td>\n",
              "      <td>28.1</td>\n",
              "      <td>0.167</td>\n",
              "      <td>21</td>\n",
              "      <td>0</td>\n",
              "    </tr>\n",
              "    <tr>\n",
              "      <th>1</th>\n",
              "      <td>0</td>\n",
              "      <td>137</td>\n",
              "      <td>40</td>\n",
              "      <td>35</td>\n",
              "      <td>168</td>\n",
              "      <td>43.1</td>\n",
              "      <td>2.288</td>\n",
              "      <td>33</td>\n",
              "      <td>1</td>\n",
              "    </tr>\n",
              "    <tr>\n",
              "      <th>2</th>\n",
              "      <td>3</td>\n",
              "      <td>78</td>\n",
              "      <td>50</td>\n",
              "      <td>32</td>\n",
              "      <td>88</td>\n",
              "      <td>31.0</td>\n",
              "      <td>0.248</td>\n",
              "      <td>26</td>\n",
              "      <td>1</td>\n",
              "    </tr>\n",
              "    <tr>\n",
              "      <th>3</th>\n",
              "      <td>2</td>\n",
              "      <td>197</td>\n",
              "      <td>70</td>\n",
              "      <td>45</td>\n",
              "      <td>543</td>\n",
              "      <td>30.5</td>\n",
              "      <td>0.158</td>\n",
              "      <td>53</td>\n",
              "      <td>1</td>\n",
              "    </tr>\n",
              "    <tr>\n",
              "      <th>4</th>\n",
              "      <td>1</td>\n",
              "      <td>189</td>\n",
              "      <td>60</td>\n",
              "      <td>23</td>\n",
              "      <td>846</td>\n",
              "      <td>30.1</td>\n",
              "      <td>0.398</td>\n",
              "      <td>59</td>\n",
              "      <td>1</td>\n",
              "    </tr>\n",
              "  </tbody>\n",
              "</table>\n",
              "</div>"
            ],
            "text/plain": [
              "   Pregnancies  Glucose  BloodPressure  ...  DiabetesPedigreeFunction  Age  Outcome\n",
              "0            1       89             66  ...                     0.167   21        0\n",
              "1            0      137             40  ...                     2.288   33        1\n",
              "2            3       78             50  ...                     0.248   26        1\n",
              "3            2      197             70  ...                     0.158   53        1\n",
              "4            1      189             60  ...                     0.398   59        1\n",
              "\n",
              "[5 rows x 9 columns]"
            ]
          },
          "metadata": {
            "tags": []
          },
          "execution_count": 461
        }
      ]
    },
    {
      "cell_type": "markdown",
      "metadata": {
        "id": "XR2OaHeo6OZs"
      },
      "source": [
        "*Description of our data*"
      ]
    },
    {
      "cell_type": "code",
      "metadata": {
        "id": "DXRNfYrexnDX",
        "colab": {
          "base_uri": "https://localhost:8080/",
          "height": 297
        },
        "outputId": "46dbc363-b41e-4702-c3cd-740a503b4b3d"
      },
      "source": [
        "diabetes.describe()"
      ],
      "execution_count": 462,
      "outputs": [
        {
          "output_type": "execute_result",
          "data": {
            "text/html": [
              "<div>\n",
              "<style scoped>\n",
              "    .dataframe tbody tr th:only-of-type {\n",
              "        vertical-align: middle;\n",
              "    }\n",
              "\n",
              "    .dataframe tbody tr th {\n",
              "        vertical-align: top;\n",
              "    }\n",
              "\n",
              "    .dataframe thead th {\n",
              "        text-align: right;\n",
              "    }\n",
              "</style>\n",
              "<table border=\"1\" class=\"dataframe\">\n",
              "  <thead>\n",
              "    <tr style=\"text-align: right;\">\n",
              "      <th></th>\n",
              "      <th>Pregnancies</th>\n",
              "      <th>Glucose</th>\n",
              "      <th>BloodPressure</th>\n",
              "      <th>SkinThickness</th>\n",
              "      <th>Insulin</th>\n",
              "      <th>BMI</th>\n",
              "      <th>DiabetesPedigreeFunction</th>\n",
              "      <th>Age</th>\n",
              "      <th>Outcome</th>\n",
              "    </tr>\n",
              "  </thead>\n",
              "  <tbody>\n",
              "    <tr>\n",
              "      <th>count</th>\n",
              "      <td>392.000000</td>\n",
              "      <td>392.000000</td>\n",
              "      <td>392.000000</td>\n",
              "      <td>392.000000</td>\n",
              "      <td>392.000000</td>\n",
              "      <td>392.000000</td>\n",
              "      <td>392.000000</td>\n",
              "      <td>392.000000</td>\n",
              "      <td>392.000000</td>\n",
              "    </tr>\n",
              "    <tr>\n",
              "      <th>mean</th>\n",
              "      <td>3.301020</td>\n",
              "      <td>122.627551</td>\n",
              "      <td>70.663265</td>\n",
              "      <td>29.145408</td>\n",
              "      <td>156.056122</td>\n",
              "      <td>33.086224</td>\n",
              "      <td>0.523046</td>\n",
              "      <td>30.864796</td>\n",
              "      <td>0.331633</td>\n",
              "    </tr>\n",
              "    <tr>\n",
              "      <th>std</th>\n",
              "      <td>3.211424</td>\n",
              "      <td>30.860781</td>\n",
              "      <td>12.496092</td>\n",
              "      <td>10.516424</td>\n",
              "      <td>118.841690</td>\n",
              "      <td>7.027659</td>\n",
              "      <td>0.345488</td>\n",
              "      <td>10.200777</td>\n",
              "      <td>0.471401</td>\n",
              "    </tr>\n",
              "    <tr>\n",
              "      <th>min</th>\n",
              "      <td>0.000000</td>\n",
              "      <td>56.000000</td>\n",
              "      <td>24.000000</td>\n",
              "      <td>7.000000</td>\n",
              "      <td>14.000000</td>\n",
              "      <td>18.200000</td>\n",
              "      <td>0.085000</td>\n",
              "      <td>21.000000</td>\n",
              "      <td>0.000000</td>\n",
              "    </tr>\n",
              "    <tr>\n",
              "      <th>25%</th>\n",
              "      <td>1.000000</td>\n",
              "      <td>99.000000</td>\n",
              "      <td>62.000000</td>\n",
              "      <td>21.000000</td>\n",
              "      <td>76.750000</td>\n",
              "      <td>28.400000</td>\n",
              "      <td>0.269750</td>\n",
              "      <td>23.000000</td>\n",
              "      <td>0.000000</td>\n",
              "    </tr>\n",
              "    <tr>\n",
              "      <th>50%</th>\n",
              "      <td>2.000000</td>\n",
              "      <td>119.000000</td>\n",
              "      <td>70.000000</td>\n",
              "      <td>29.000000</td>\n",
              "      <td>125.500000</td>\n",
              "      <td>33.200000</td>\n",
              "      <td>0.449500</td>\n",
              "      <td>27.000000</td>\n",
              "      <td>0.000000</td>\n",
              "    </tr>\n",
              "    <tr>\n",
              "      <th>75%</th>\n",
              "      <td>5.000000</td>\n",
              "      <td>143.000000</td>\n",
              "      <td>78.000000</td>\n",
              "      <td>37.000000</td>\n",
              "      <td>190.000000</td>\n",
              "      <td>37.100000</td>\n",
              "      <td>0.687000</td>\n",
              "      <td>36.000000</td>\n",
              "      <td>1.000000</td>\n",
              "    </tr>\n",
              "    <tr>\n",
              "      <th>max</th>\n",
              "      <td>17.000000</td>\n",
              "      <td>198.000000</td>\n",
              "      <td>110.000000</td>\n",
              "      <td>63.000000</td>\n",
              "      <td>846.000000</td>\n",
              "      <td>67.100000</td>\n",
              "      <td>2.420000</td>\n",
              "      <td>81.000000</td>\n",
              "      <td>1.000000</td>\n",
              "    </tr>\n",
              "  </tbody>\n",
              "</table>\n",
              "</div>"
            ],
            "text/plain": [
              "       Pregnancies     Glucose  ...         Age     Outcome\n",
              "count   392.000000  392.000000  ...  392.000000  392.000000\n",
              "mean      3.301020  122.627551  ...   30.864796    0.331633\n",
              "std       3.211424   30.860781  ...   10.200777    0.471401\n",
              "min       0.000000   56.000000  ...   21.000000    0.000000\n",
              "25%       1.000000   99.000000  ...   23.000000    0.000000\n",
              "50%       2.000000  119.000000  ...   27.000000    0.000000\n",
              "75%       5.000000  143.000000  ...   36.000000    1.000000\n",
              "max      17.000000  198.000000  ...   81.000000    1.000000\n",
              "\n",
              "[8 rows x 9 columns]"
            ]
          },
          "metadata": {
            "tags": []
          },
          "execution_count": 462
        }
      ]
    },
    {
      "cell_type": "markdown",
      "metadata": {
        "id": "1DGW89Iy6jhm"
      },
      "source": [
        "**CORRELATION & FINDING THE BEST PARAMETERS**"
      ]
    },
    {
      "cell_type": "markdown",
      "metadata": {
        "id": "t5Al_joA61fh"
      },
      "source": [
        "*Plot the correlation between our characteristics*"
      ]
    },
    {
      "cell_type": "code",
      "metadata": {
        "id": "4mW6XZ6hx43G",
        "colab": {
          "base_uri": "https://localhost:8080/",
          "height": 679
        },
        "outputId": "0ee0bb0d-53c7-41df-f0e3-56b774117b20"
      },
      "source": [
        "# We obtain an array with the absolute value of each correlation value and\n",
        "# we represent them in a colorbar, we put annot =   True to write the data value in each cell.\n",
        "plt.figure(figsize=(9, 9))\n",
        "sns.heatmap(np.abs(diabetes.corr()), annot=True, cmap='Purples', fmt='0.2f')"
      ],
      "execution_count": 463,
      "outputs": [
        {
          "output_type": "execute_result",
          "data": {
            "text/plain": [
              "<matplotlib.axes._subplots.AxesSubplot at 0x7ffb31f36f98>"
            ]
          },
          "metadata": {
            "tags": []
          },
          "execution_count": 463
        },
        {
          "output_type": "display_data",
          "data": {
            "image/png": "[encoded data removed]",
            "text/plain": [
              "<Figure size 648x648 with 2 Axes>"
            ]
          },
          "metadata": {
            "tags": [],
            "needs_background": "light"
          }
        }
      ]
    },
    {
      "cell_type": "markdown",
      "metadata": {
        "id": "nEX4sQe-7P0b"
      },
      "source": [
        "*Separate our Outcome from our data*"
      ]
    },
    {
      "cell_type": "code",
      "metadata": {
        "id": "uUgYKrNuyACM"
      },
      "source": [
        "x = diabetes.drop('Outcome', axis=1)\n",
        "y = diabetes['Outcome']\n",
        "y = y.values"
      ],
      "execution_count": 464,
      "outputs": []
    },
    {
      "cell_type": "markdown",
      "metadata": {
        "id": "fA2KAkbe7cO5"
      },
      "source": [
        "*Now we find the best parameters for the analysis*"
      ]
    },
    {
      "cell_type": "code",
      "metadata": {
        "id": "X75bRlWsyCAN",
        "colab": {
          "base_uri": "https://localhost:8080/",
          "height": 531
        },
        "outputId": "021058f4-bfa6-453e-a5bc-a513e3e43b35"
      },
      "source": [
        "from sklearn.feature_selection import RFECV\n",
        "from sklearn.feature_selection import RFE\n",
        "from sklearn.ensemble import RandomForestClassifier\n",
        "\n",
        "cv_estimator = RandomForestClassifier(random_state=42)\n",
        "X_train, X_test, Y_train, Y_test = train_test_split(x, y, test_size=0.1, random_state=42)\n",
        "cv_estimator.fit(X_train, Y_train)\n",
        "cv_selector = RFECV(cv_estimator, cv=5, step=1, scoring='accuracy')\n",
        "cv_selector = cv_selector.fit(X_train, Y_train)\n",
        "rfecv_mask = cv_selector.get_support()  # list of booleans\n",
        "rfecv_features = []\n",
        "for bool, feature in zip(rfecv_mask, X_train.columns):\n",
        "    if bool:\n",
        "        rfecv_features.append(feature)\n",
        "print('Optimal number of features :', cv_selector.n_features_)\n",
        "print('Best features for the analysis:', rfecv_features)\n",
        "n_features = X_train.shape[1]\n",
        "plt.figure(figsize=(8, 8))\n",
        "plt.barh(range(n_features), cv_estimator.feature_importances_, align='center')\n",
        "plt.yticks(np.arange(n_features), X_train.columns.values)\n",
        "plt.xlabel('Importance of the feature')\n",
        "plt.ylabel('Feature')\n",
        "plt.show()\n"
      ],
      "execution_count": 465,
      "outputs": [
        {
          "output_type": "stream",
          "text": [
            "Optimal number of features : 4\n",
            "Best features for the analysis: ['Glucose', 'Insulin', 'BMI', 'Age']\n"
          ],
          "name": "stdout"
        },
        {
          "output_type": "display_data",
          "data": {
            "image/png": "[encoded data removed]",
            "text/plain": [
              "<Figure size 576x576 with 1 Axes>"
            ]
          },
          "metadata": {
            "tags": [],
            "needs_background": "light"
          }
        }
      ]
    },
    {
      "cell_type": "markdown",
      "metadata": {
        "id": "ZfbJEstw7n6j"
      },
      "source": [
        "*Now that we know the best features, we only use those in our data frame*"
      ]
    },
    {
      "cell_type": "code",
      "metadata": {
        "id": "Pwciz0NE7bvd",
        "colab": {
          "base_uri": "https://localhost:8080/",
          "height": 221
        },
        "outputId": "42129431-b5c4-4117-bff0-a1ddfb64c1f9"
      },
      "source": [
        "# We indicate the features that we want to use, and we 'update' our data to only use those\n",
        "diabetes = diabetes[['Glucose', 'BMI', 'Age', 'Insulin', 'Outcome']]\n",
        "print('Example of the New table:')\n",
        "diabetes.head()"
      ],
      "execution_count": 466,
      "outputs": [
        {
          "output_type": "stream",
          "text": [
            "Example of the New table:\n"
          ],
          "name": "stdout"
        },
        {
          "output_type": "execute_result",
          "data": {
            "text/html": [
              "<div>\n",
              "<style scoped>\n",
              "    .dataframe tbody tr th:only-of-type {\n",
              "        vertical-align: middle;\n",
              "    }\n",
              "\n",
              "    .dataframe tbody tr th {\n",
              "        vertical-align: top;\n",
              "    }\n",
              "\n",
              "    .dataframe thead th {\n",
              "        text-align: right;\n",
              "    }\n",
              "</style>\n",
              "<table border=\"1\" class=\"dataframe\">\n",
              "  <thead>\n",
              "    <tr style=\"text-align: right;\">\n",
              "      <th></th>\n",
              "      <th>Glucose</th>\n",
              "      <th>BMI</th>\n",
              "      <th>Age</th>\n",
              "      <th>Insulin</th>\n",
              "      <th>Outcome</th>\n",
              "    </tr>\n",
              "  </thead>\n",
              "  <tbody>\n",
              "    <tr>\n",
              "      <th>0</th>\n",
              "      <td>89</td>\n",
              "      <td>28.1</td>\n",
              "      <td>21</td>\n",
              "      <td>94</td>\n",
              "      <td>0</td>\n",
              "    </tr>\n",
              "    <tr>\n",
              "      <th>1</th>\n",
              "      <td>137</td>\n",
              "      <td>43.1</td>\n",
              "      <td>33</td>\n",
              "      <td>168</td>\n",
              "      <td>1</td>\n",
              "    </tr>\n",
              "    <tr>\n",
              "      <th>2</th>\n",
              "      <td>78</td>\n",
              "      <td>31.0</td>\n",
              "      <td>26</td>\n",
              "      <td>88</td>\n",
              "      <td>1</td>\n",
              "    </tr>\n",
              "    <tr>\n",
              "      <th>3</th>\n",
              "      <td>197</td>\n",
              "      <td>30.5</td>\n",
              "      <td>53</td>\n",
              "      <td>543</td>\n",
              "      <td>1</td>\n",
              "    </tr>\n",
              "    <tr>\n",
              "      <th>4</th>\n",
              "      <td>189</td>\n",
              "      <td>30.1</td>\n",
              "      <td>59</td>\n",
              "      <td>846</td>\n",
              "      <td>1</td>\n",
              "    </tr>\n",
              "  </tbody>\n",
              "</table>\n",
              "</div>"
            ],
            "text/plain": [
              "   Glucose   BMI  Age  Insulin  Outcome\n",
              "0       89  28.1   21       94        0\n",
              "1      137  43.1   33      168        1\n",
              "2       78  31.0   26       88        1\n",
              "3      197  30.5   53      543        1\n",
              "4      189  30.1   59      846        1"
            ]
          },
          "metadata": {
            "tags": []
          },
          "execution_count": 466
        }
      ]
    },
    {
      "cell_type": "markdown",
      "metadata": {
        "id": "2B3EQ6dM8Owj"
      },
      "source": [
        "*We plot the correlation with the new data frame (contains the outcome)*"
      ]
    },
    {
      "cell_type": "code",
      "metadata": {
        "id": "-PoKuoI777ON",
        "colab": {
          "base_uri": "https://localhost:8080/",
          "height": 575
        },
        "outputId": "e0b5e7af-e4a8-4f69-8325-74a9ff672be6"
      },
      "source": [
        "# Once again, we represent our correlation values with a heatmap.\n",
        "print('Correlation of the best parameters:')\n",
        "plt.figure(figsize=(9, 9))\n",
        "sns.heatmap(np.abs(diabetes.corr()), annot=True, cmap='Purples', fmt='0.2f')"
      ],
      "execution_count": 467,
      "outputs": [
        {
          "output_type": "stream",
          "text": [
            "Correlation of the best parameters:\n"
          ],
          "name": "stdout"
        },
        {
          "output_type": "execute_result",
          "data": {
            "text/plain": [
              "<matplotlib.axes._subplots.AxesSubplot at 0x7ffb33ec7b00>"
            ]
          },
          "metadata": {
            "tags": []
          },
          "execution_count": 467
        },
        {
          "output_type": "display_data",
          "data": {
            "image/png": "[encoded data removed]",
            "text/plain": [
              "<Figure size 648x648 with 2 Axes>"
            ]
          },
          "metadata": {
            "tags": [],
            "needs_background": "light"
          }
        }
      ]
    },
    {
      "cell_type": "markdown",
      "metadata": {
        "id": "UfPPAOAe9D2S"
      },
      "source": [
        "*We separate our Outcome from our data once again*"
      ]
    },
    {
      "cell_type": "code",
      "metadata": {
        "id": "_OHLTy2o8eC8"
      },
      "source": [
        "# We needed the Outcome to see the correlation that it has with each feature.\n",
        "# Now we dont need it, so we separate it.\n",
        "x = diabetes.drop('Outcome', axis=1)\n",
        "y = diabetes['Outcome']\n",
        "y = y.values"
      ],
      "execution_count": 468,
      "outputs": []
    },
    {
      "cell_type": "markdown",
      "metadata": {
        "id": "P7Lkrm3U9Yn0"
      },
      "source": [
        "*We display the information in a new table*"
      ]
    },
    {
      "cell_type": "code",
      "metadata": {
        "id": "O5APCNd-9NkJ",
        "colab": {
          "base_uri": "https://localhost:8080/",
          "height": 436
        },
        "outputId": "a0d612f8-b534-4661-9364-1ef6d717b146"
      },
      "source": [
        "print('Table of our characteristics for each example')\n",
        "x"
      ],
      "execution_count": 469,
      "outputs": [
        {
          "output_type": "stream",
          "text": [
            "Table of our characteristics for each example\n"
          ],
          "name": "stdout"
        },
        {
          "output_type": "execute_result",
          "data": {
            "text/html": [
              "<div>\n",
              "<style scoped>\n",
              "    .dataframe tbody tr th:only-of-type {\n",
              "        vertical-align: middle;\n",
              "    }\n",
              "\n",
              "    .dataframe tbody tr th {\n",
              "        vertical-align: top;\n",
              "    }\n",
              "\n",
              "    .dataframe thead th {\n",
              "        text-align: right;\n",
              "    }\n",
              "</style>\n",
              "<table border=\"1\" class=\"dataframe\">\n",
              "  <thead>\n",
              "    <tr style=\"text-align: right;\">\n",
              "      <th></th>\n",
              "      <th>Glucose</th>\n",
              "      <th>BMI</th>\n",
              "      <th>Age</th>\n",
              "      <th>Insulin</th>\n",
              "    </tr>\n",
              "  </thead>\n",
              "  <tbody>\n",
              "    <tr>\n",
              "      <th>0</th>\n",
              "      <td>89</td>\n",
              "      <td>28.1</td>\n",
              "      <td>21</td>\n",
              "      <td>94</td>\n",
              "    </tr>\n",
              "    <tr>\n",
              "      <th>1</th>\n",
              "      <td>137</td>\n",
              "      <td>43.1</td>\n",
              "      <td>33</td>\n",
              "      <td>168</td>\n",
              "    </tr>\n",
              "    <tr>\n",
              "      <th>2</th>\n",
              "      <td>78</td>\n",
              "      <td>31.0</td>\n",
              "      <td>26</td>\n",
              "      <td>88</td>\n",
              "    </tr>\n",
              "    <tr>\n",
              "      <th>3</th>\n",
              "      <td>197</td>\n",
              "      <td>30.5</td>\n",
              "      <td>53</td>\n",
              "      <td>543</td>\n",
              "    </tr>\n",
              "    <tr>\n",
              "      <th>4</th>\n",
              "      <td>189</td>\n",
              "      <td>30.1</td>\n",
              "      <td>59</td>\n",
              "      <td>846</td>\n",
              "    </tr>\n",
              "    <tr>\n",
              "      <th>...</th>\n",
              "      <td>...</td>\n",
              "      <td>...</td>\n",
              "      <td>...</td>\n",
              "      <td>...</td>\n",
              "    </tr>\n",
              "    <tr>\n",
              "      <th>387</th>\n",
              "      <td>181</td>\n",
              "      <td>43.3</td>\n",
              "      <td>26</td>\n",
              "      <td>510</td>\n",
              "    </tr>\n",
              "    <tr>\n",
              "      <th>388</th>\n",
              "      <td>128</td>\n",
              "      <td>36.5</td>\n",
              "      <td>37</td>\n",
              "      <td>110</td>\n",
              "    </tr>\n",
              "    <tr>\n",
              "      <th>389</th>\n",
              "      <td>88</td>\n",
              "      <td>28.4</td>\n",
              "      <td>22</td>\n",
              "      <td>16</td>\n",
              "    </tr>\n",
              "    <tr>\n",
              "      <th>390</th>\n",
              "      <td>101</td>\n",
              "      <td>32.9</td>\n",
              "      <td>63</td>\n",
              "      <td>180</td>\n",
              "    </tr>\n",
              "    <tr>\n",
              "      <th>391</th>\n",
              "      <td>121</td>\n",
              "      <td>26.2</td>\n",
              "      <td>30</td>\n",
              "      <td>112</td>\n",
              "    </tr>\n",
              "  </tbody>\n",
              "</table>\n",
              "<p>392 rows × 4 columns</p>\n",
              "</div>"
            ],
            "text/plain": [
              "     Glucose   BMI  Age  Insulin\n",
              "0         89  28.1   21       94\n",
              "1        137  43.1   33      168\n",
              "2         78  31.0   26       88\n",
              "3        197  30.5   53      543\n",
              "4        189  30.1   59      846\n",
              "..       ...   ...  ...      ...\n",
              "387      181  43.3   26      510\n",
              "388      128  36.5   37      110\n",
              "389       88  28.4   22       16\n",
              "390      101  32.9   63      180\n",
              "391      121  26.2   30      112\n",
              "\n",
              "[392 rows x 4 columns]"
            ]
          },
          "metadata": {
            "tags": []
          },
          "execution_count": 469
        }
      ]
    },
    {
      "cell_type": "markdown",
      "metadata": {
        "id": "0oq9l6FR9qnG"
      },
      "source": [
        "**K FOLD**"
      ]
    },
    {
      "cell_type": "markdown",
      "metadata": {
        "id": "4pFHqzEg932t"
      },
      "source": [
        "*Application with Logistic Regression*"
      ]
    },
    {
      "cell_type": "code",
      "metadata": {
        "id": "i5zhgusoyFxs"
      },
      "source": [
        "# We use this function where we specify that we want to apply kfold\n",
        "# We indicate the number os splits and if we want to shuffle our data\n",
        "kfold = model_selection.KFold(n_splits=10, shuffle=True)\n",
        "# We indicate that we want our model to work with Logistic Regression instead of RandomForests\n",
        "kfold_model = LogisticRegression()\n",
        "kfold_results = model_selection.cross_val_score(kfold_model, x, y, cv=kfold)"
      ],
      "execution_count": 470,
      "outputs": []
    },
    {
      "cell_type": "markdown",
      "metadata": {
        "id": "tD5DGz8_-Tun"
      },
      "source": [
        "**NUMBER OF FAILURES AND SUCCESSES**"
      ]
    },
    {
      "cell_type": "markdown",
      "metadata": {
        "id": "YhaCePCL-vKn"
      },
      "source": [
        "*As Confusion Matrix*"
      ]
    },
    {
      "cell_type": "code",
      "metadata": {
        "id": "fjUzxKcIyIcK",
        "colab": {
          "base_uri": "https://localhost:8080/"
        },
        "outputId": "9bb943f0-f5f6-421e-98bf-a8e67881b08a"
      },
      "source": [
        "from sklearn import metrics\n",
        "# We fit our training examples to our Logistic Regression, which is our k fold model\n",
        "kfold_model.fit(X_train, Y_train)\n",
        "prediction = kfold_model.predict(X_test)\n",
        "confusion_mtx = metrics.confusion_matrix(Y_test, prediction)"
      ],
      "execution_count": 471,
      "outputs": [
        {
          "output_type": "stream",
          "text": [
            "/usr/local/lib/python3.6/dist-packages/sklearn/linear_model/_logistic.py:940: ConvergenceWarning:\n",
            "\n",
            "lbfgs failed to converge (status=1):\n",
            "STOP: TOTAL NO. of ITERATIONS REACHED LIMIT.\n",
            "\n",
            "Increase the number of iterations (max_iter) or scale the data as shown in:\n",
            "    https://scikit-learn.org/stable/modules/preprocessing.html\n",
            "Please also refer to the documentation for alternative solver options:\n",
            "    https://scikit-learn.org/stable/modules/linear_model.html#logistic-regression\n",
            "\n"
          ],
          "name": "stderr"
        }
      ]
    },
    {
      "cell_type": "code",
      "metadata": {
        "id": "WLCmgj5NyKdW",
        "colab": {
          "base_uri": "https://localhost:8080/",
          "height": 319
        },
        "outputId": "7f40103f-4101-4d86-f9bb-2872a52ef868"
      },
      "source": [
        "plt.figure()\n",
        "plt.matshow(confusion_mtx, cmap='PuBu_r')\n",
        "\n",
        "for x in range(0, 2):\n",
        "    for y in range(0, 2):\n",
        "        plt.text(x, y, confusion_mtx[x, y])\n",
        "\n",
        "plt.xlabel('Predicted Result')\n",
        "plt.ylabel('Expected Result')\n"
      ],
      "execution_count": 472,
      "outputs": [
        {
          "output_type": "execute_result",
          "data": {
            "text/plain": [
              "Text(0, 0.5, 'Expected Result')"
            ]
          },
          "metadata": {
            "tags": []
          },
          "execution_count": 472
        },
        {
          "output_type": "display_data",
          "data": {
            "text/plain": [
              "<Figure size 432x288 with 0 Axes>"
            ]
          },
          "metadata": {
            "tags": []
          }
        },
        {
          "output_type": "display_data",
          "data": {
            "image/png": "[encoded data removed]",
            "text/plain": [
              "<Figure size 288x288 with 1 Axes>"
            ]
          },
          "metadata": {
            "tags": [],
            "needs_background": "light"
          }
        }
      ]
    },
    {
      "cell_type": "markdown",
      "metadata": {
        "id": "AdgOIqTKADlT"
      },
      "source": [
        "*More Explicitly*"
      ]
    },
    {
      "cell_type": "code",
      "metadata": {
        "id": "NH7KrjHNneCu",
        "colab": {
          "base_uri": "https://localhost:8080/"
        },
        "outputId": "306d142f-b4a1-4b70-850e-52858c3824b9"
      },
      "source": [
        "# [row, column]\n",
        "TrueP = confusion_mtx[1, 1]\n",
        "FalseP = confusion_mtx[1, 0]\n",
        "TrueN = confusion_mtx[0, 0]\n",
        "FalseN = confusion_mtx[0, 1]\n",
        "\n",
        "print('True positive =', TrueP)\n",
        "print('False positive =', FalseP)\n",
        "print('True negative =', TrueN)\n",
        "print('False negative =', FalseN, '\\n')\n",
        "# print(confusion_mtx)"
      ],
      "execution_count": 473,
      "outputs": [
        {
          "output_type": "stream",
          "text": [
            "True positive = 9\n",
            "False positive = 6\n",
            "True negative = 22\n",
            "False negative = 3 \n",
            "\n"
          ],
          "name": "stdout"
        }
      ]
    },
    {
      "cell_type": "markdown",
      "metadata": {
        "id": "aH4ekw-wAkpV"
      },
      "source": [
        "**RESULTS**"
      ]
    },
    {
      "cell_type": "markdown",
      "metadata": {
        "id": "2B0JZUgb-OEd"
      },
      "source": [
        "*Accuracy*"
      ]
    },
    {
      "cell_type": "code",
      "metadata": {
        "id": "kjffef2TzFGY",
        "colab": {
          "base_uri": "https://localhost:8080/"
        },
        "outputId": "cd5c9211-71ab-4001-8701-25c52a415fc6"
      },
      "source": [
        "# Degree to which the result of a measurement, calculation, or specification conforms to the correct value.\n",
        "# This tells us how correct or precise is ocur program.\n",
        "print('Accuracy: %.02f%%' % (kfold_results.mean() * 100))"
      ],
      "execution_count": 474,
      "outputs": [
        {
          "output_type": "stream",
          "text": [
            "Accuracy: 79.85%\n"
          ],
          "name": "stdout"
        }
      ]
    },
    {
      "cell_type": "markdown",
      "metadata": {
        "id": "zo8cmN9LAnXp"
      },
      "source": [
        "*Sensitivity*"
      ]
    },
    {
      "cell_type": "code",
      "metadata": {
        "id": "uFDY78sFyN8y",
        "colab": {
          "base_uri": "https://localhost:8080/"
        },
        "outputId": "12d6360a-aaa5-43be-e18d-920df7636386"
      },
      "source": [
        "# Sensitivity is a measure of how well a test can identify true positives.\n",
        "# It is the percentage, or proportion, of true positives out of all the samples that have the condition (true positives and false negatives).\n",
        "# For example, the proportion of those who truly have a disease (affected) who are correctly identified as having it.\n",
        "print(\"Sensitivity: %d%%\" % (TrueP * 100 / float(TrueP + FalseN)))"
      ],
      "execution_count": 475,
      "outputs": [
        {
          "output_type": "stream",
          "text": [
            "Sensitivity: 75%\n"
          ],
          "name": "stdout"
        }
      ]
    },
    {
      "cell_type": "markdown",
      "metadata": {
        "id": "NMc7lxgPA3tl"
      },
      "source": [
        "*Specificity*"
      ]
    },
    {
      "cell_type": "code",
      "metadata": {
        "id": "rqFBWgyQzfCs",
        "colab": {
          "base_uri": "https://localhost:8080/"
        },
        "outputId": "099ea28e-7123-4f30-995b-f49557b19f02"
      },
      "source": [
        "# Specificity is a measure of how well a test can identify true negatives.\n",
        "# It is the percentage, or proportion, of the true negatives out of all the samples that do not have the condition (true negatives and false positives). \n",
        "# For example, the proportion of those who truly do not have the condition (unaffected) who are correctly identified as not having it.\n",
        "print(\"Specificity  : %d%%\" % (TrueN * 100 / float(TrueN + FalseP)))"
      ],
      "execution_count": 476,
      "outputs": [
        {
          "output_type": "stream",
          "text": [
            "Specificity  : 78%\n"
          ],
          "name": "stdout"
        }
      ]
    }
  ]
}